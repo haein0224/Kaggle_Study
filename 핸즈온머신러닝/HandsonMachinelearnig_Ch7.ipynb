{
  "nbformat": 4,
  "nbformat_minor": 0,
  "metadata": {
    "colab": {
      "name": "HandsonMachinelearnig_Ch7.ipynb",
      "provenance": [],
      "collapsed_sections": [],
      "toc_visible": true,
      "authorship_tag": "ABX9TyMaq6Urwtd1ZI/yFyyuFHvn",
      "include_colab_link": true
    },
    "kernelspec": {
      "name": "python3",
      "display_name": "Python 3"
    },
    "language_info": {
      "name": "python"
    }
  },
  "cells": [
    {
      "cell_type": "markdown",
      "metadata": {
        "id": "view-in-github",
        "colab_type": "text"
      },
      "source": [
        "<a href=\"https://colab.research.google.com/github/haein0224/Study_machinelearning/blob/main/%ED%95%B8%EC%A6%88%EC%98%A8%EB%A8%B8%EC%8B%A0%EB%9F%AC%EB%8B%9D/HandsonMachinelearnig_Ch7.ipynb\" target=\"_parent\"><img src=\"https://colab.research.google.com/assets/colab-badge.svg\" alt=\"Open In Colab\"/></a>"
      ]
    },
    {
      "cell_type": "code",
      "execution_count": null,
      "metadata": {
        "colab": {
          "base_uri": "https://localhost:8080/"
        },
        "id": "3N5hbma3F7rC",
        "outputId": "45fa855a-79f1-4026-fcdb-641c7921a393"
      },
      "outputs": [
        {
          "output_type": "execute_result",
          "data": {
            "text/plain": [
              "VotingClassifier(estimators=[('lr', LogisticRegression(solver='liblinear')),\n",
              "                             ('rf', RandomForestClassifier(n_estimators=10)),\n",
              "                             ('svc', SVC(gamma='auto'))])"
            ]
          },
          "metadata": {},
          "execution_count": 1
        }
      ],
      "source": [
        "# 7.1\n",
        "# 투표기반 분류기 (moons dataset)\n",
        "\n",
        "# 데이터 생성 (moon data)\n",
        "from sklearn.datasets import make_moons\n",
        "from sklearn.pipeline import Pipeline\n",
        "from sklearn.preprocessing import PolynomialFeatures\n",
        "from sklearn.model_selection import train_test_split\n",
        "\n",
        "X,y = make_moons(n_samples = 1000, noise = 0.15, random_state=42)\n",
        "\n",
        "X_train, X_test, y_train, y_test = train_test_split(X, y, test_size=0.2, shuffle=False, random_state=1004)\n",
        "\n",
        "# 사용할 다른 종류의 분류기 import\n",
        "from sklearn.ensemble import RandomForestClassifier\n",
        "from sklearn.ensemble import VotingClassifier\n",
        "from sklearn.linear_model import LogisticRegression\n",
        "from sklearn.svm import SVC\n",
        "\n",
        "# 각 분류기 세팅\n",
        "log_clf = LogisticRegression(solver='liblinear')\n",
        "rnd_clf = RandomForestClassifier(n_estimators=10)\n",
        "svm_clf = SVC(gamma='auto')\n",
        "svm_clf2 = SVC(gamma='auto', probability=True)\n",
        "\n",
        "\n",
        "# voting classifier에 넣어줌\n",
        "voting_clf = VotingClassifier(\n",
        "    estimators = [('lr', log_clf), ('rf', rnd_clf), ('svc', svm_clf)],\n",
        "    voting = 'hard')\n",
        "voting_clf.fit(X_train, y_train)"
      ]
    },
    {
      "cell_type": "code",
      "source": [
        "# soft 간접투표를 이용하는 경우\n",
        "voting_clf2 = VotingClassifier(\n",
        "    estimators = [('lr', log_clf), ('rf', rnd_clf), ('svc', svm_clf2)],\n",
        "    voting = 'soft')\n",
        "voting_clf.fit(X_train, y_train)"
      ],
      "metadata": {
        "colab": {
          "base_uri": "https://localhost:8080/"
        },
        "id": "N5etnPyNMK-L",
        "outputId": "b5c76bc7-48be-4d21-a56a-7f1c32e363e4"
      },
      "execution_count": null,
      "outputs": [
        {
          "output_type": "execute_result",
          "data": {
            "text/plain": [
              "VotingClassifier(estimators=[('lr', LogisticRegression(solver='liblinear')),\n",
              "                             ('rf', RandomForestClassifier(n_estimators=10)),\n",
              "                             ('svc', SVC(gamma='auto'))])"
            ]
          },
          "metadata": {},
          "execution_count": 2
        }
      ]
    },
    {
      "cell_type": "code",
      "source": [
        "# 각 분류기의 정확도 확인\n",
        "from sklearn.metrics import accuracy_score\n",
        "for clf in (log_clf, rnd_clf, svm_clf, voting_clf, voting_clf2) :\n",
        "  clf.fit(X_train, y_train)\n",
        "  y_pred = clf.predict(X_test)\n",
        "  print(clf.__class__.__name__, accuracy_score(y_test, y_pred))\n",
        "\n",
        "  # Voting classifier의 정확도가 더 높음!"
      ],
      "metadata": {
        "colab": {
          "base_uri": "https://localhost:8080/"
        },
        "id": "3Ac2nkWKL0nT",
        "outputId": "4caf5df5-757b-46fb-8f01-1e7fdddea413"
      },
      "execution_count": null,
      "outputs": [
        {
          "output_type": "stream",
          "name": "stdout",
          "text": [
            "LogisticRegression 0.865\n",
            "RandomForestClassifier 0.985\n",
            "SVC 0.97\n",
            "VotingClassifier 0.97\n",
            "VotingClassifier 0.97\n"
          ]
        }
      ]
    },
    {
      "cell_type": "code",
      "source": [
        "# 7.2 배깅과 페이스팅\n",
        "from sklearn.ensemble import BaggingClassifier\n",
        "from sklearn.tree import DecisionTreeClassifier # 결정트리 한가지 알고리즘을 이용해 앙상블\n",
        "\n",
        "bag_clf = BaggingClassifier(\n",
        "    DecisionTreeClassifier(), n_estimators = 500, # 총 500개의 예측기를 생성해 앙상블 진행\n",
        "    max_samples = 100, bootstrap=True, n_jobs = -1 ) # n_jobs : 사이킷런이 훈련과 예측에 사용할 CPU 코어 수를 지정함 (-1로 지정하는 경우 가용한 모든 코어를 사용)\n",
        "\n",
        "bag_clf.fit(X_train, y_train)\n",
        "y_pred = bag_clf.predict(X_test)\n",
        "\n",
        "accuracy_score(y_test, y_pred)\n",
        "# 굉장히 높은 정확도 보임"
      ],
      "metadata": {
        "colab": {
          "base_uri": "https://localhost:8080/"
        },
        "id": "WwMuuUvMOdp0",
        "outputId": "357b64df-57c1-4d4d-d336-786db01ea4b5"
      },
      "execution_count": null,
      "outputs": [
        {
          "output_type": "execute_result",
          "data": {
            "text/plain": [
              "0.965"
            ]
          },
          "metadata": {},
          "execution_count": 4
        }
      ]
    },
    {
      "cell_type": "code",
      "source": [
        "# 7.2.2 oob 평가\n",
        "bag_clf = BaggingClassifier(\n",
        "    DecisionTreeClassifier(), n_estimators=500,\n",
        "    bootstrap = True, n_jobs=-1, oob_score = True)\n",
        "\n",
        "bag_clf.fit(X_train, y_train)\n",
        "bag_clf.oob_score_"
      ],
      "metadata": {
        "colab": {
          "base_uri": "https://localhost:8080/"
        },
        "id": "CKw4cEZ-U-W4",
        "outputId": "8b97e949-3a8e-4639-a51b-9995d541a319"
      },
      "execution_count": null,
      "outputs": [
        {
          "output_type": "execute_result",
          "data": {
            "text/plain": [
              "0.99125"
            ]
          },
          "metadata": {},
          "execution_count": 5
        }
      ]
    },
    {
      "cell_type": "code",
      "source": [
        "from sklearn.metrics import accuracy_score\n",
        "\n",
        "y_pred = bag_clf.predict(X_test)\n",
        "accuracy_score(y_test, y_pred) # test set에 대한 평가도 oob 평가와 비교해 비슷한 수치가 나옴을 알 수 있음"
      ],
      "metadata": {
        "colab": {
          "base_uri": "https://localhost:8080/"
        },
        "id": "apl5ZUgLhjRf",
        "outputId": "d0d6031c-33b4-4e65-c0a8-e7014732a75d"
      },
      "execution_count": null,
      "outputs": [
        {
          "output_type": "execute_result",
          "data": {
            "text/plain": [
              "0.985"
            ]
          },
          "metadata": {},
          "execution_count": 6
        }
      ]
    },
    {
      "cell_type": "code",
      "source": [
        "# oob sample에 대한 결정함수 값 확인 (각 클래스에 속할 확률 추정치를 반환) \n",
        "bag_clf.oob_decision_function_"
      ],
      "metadata": {
        "id": "xNIBhQxwh3IX",
        "colab": {
          "base_uri": "https://localhost:8080/"
        },
        "outputId": "b1868491-b646-4ba7-8067-aaf1000d0780"
      },
      "execution_count": null,
      "outputs": [
        {
          "output_type": "execute_result",
          "data": {
            "text/plain": [
              "array([[0.15104167, 0.84895833],\n",
              "       [0.        , 1.        ],\n",
              "       [0.        , 1.        ],\n",
              "       ...,\n",
              "       [0.        , 1.        ],\n",
              "       [0.        , 1.        ],\n",
              "       [0.37234043, 0.62765957]])"
            ]
          },
          "metadata": {},
          "execution_count": 7
        }
      ]
    },
    {
      "cell_type": "markdown",
      "source": [
        "## Random Forest"
      ],
      "metadata": {
        "id": "UKl2CAo3B1rU"
      }
    },
    {
      "cell_type": "code",
      "source": [
        "from sklearn.ensemble import RandomForestClassifier\n",
        "\n",
        "rnd_clf = RandomForestClassifier(n_estimators=500, max_leaf_nodes=16, n_jobs=-1) \n",
        "rnd_clf.fit(X_train, y_train)\n",
        "\n",
        "y_pred_rf = rnd_clf.predict(X_test)\n",
        "\n",
        "accuracy_score(y_test, y_pred_rf)"
      ],
      "metadata": {
        "colab": {
          "base_uri": "https://localhost:8080/"
        },
        "id": "6NASjR1H_s48",
        "outputId": "1e3c7db4-2b01-42f0-c41e-708df57623f3"
      },
      "execution_count": null,
      "outputs": [
        {
          "output_type": "execute_result",
          "data": {
            "text/plain": [
              "0.985"
            ]
          },
          "metadata": {},
          "execution_count": 23
        }
      ]
    },
    {
      "cell_type": "code",
      "source": [
        "# Baggingclassifier 사용해서 비슷하게 작동하도록 만드는 코드\n",
        "bag_clf = BaggingClassifier(\n",
        "    DecisionTreeClassifier(splitter='random', max_leaf_nodes=16), # splitter를 random으로 설정해서 랜포와 같은 효과냄\n",
        "    n_estimators = 500, max_samples=1.0, bootstrap=True, n_jobs=-1, oob_score=True\n",
        ")"
      ],
      "metadata": {
        "id": "IgPdeK0qCtGD"
      },
      "execution_count": null,
      "outputs": []
    },
    {
      "cell_type": "code",
      "source": [
        "bag_clf.fit(X_train,y_train)\n",
        "y_pred_bag = bag_clf.predict(X_test)\n",
        "\n",
        "accuracy_score(y_test, y_pred_bag)"
      ],
      "metadata": {
        "colab": {
          "base_uri": "https://localhost:8080/"
        },
        "id": "bdmpQ8c9Dgka",
        "outputId": "c4e89bd0-957e-4bbc-9610-99ca74fc618f"
      },
      "execution_count": null,
      "outputs": [
        {
          "output_type": "execute_result",
          "data": {
            "text/plain": [
              "0.975"
            ]
          },
          "metadata": {},
          "execution_count": 18
        }
      ]
    },
    {
      "cell_type": "code",
      "source": [
        "bag_clf.oob_decision_function_"
      ],
      "metadata": {
        "colab": {
          "base_uri": "https://localhost:8080/"
        },
        "id": "Qr8G119QDwg4",
        "outputId": "3a80afa8-3668-4de8-b75e-e58b81cea19f"
      },
      "execution_count": null,
      "outputs": [
        {
          "output_type": "execute_result",
          "data": {
            "text/plain": [
              "array([[0.33507696, 0.66492304],\n",
              "       [0.02676238, 0.97323762],\n",
              "       [0.24154568, 0.75845432],\n",
              "       ...,\n",
              "       [0.01963367, 0.98036633],\n",
              "       [0.01433977, 0.98566023],\n",
              "       [0.04206962, 0.95793038]])"
            ]
          },
          "metadata": {},
          "execution_count": 19
        }
      ]
    },
    {
      "cell_type": "code",
      "source": [
        "# 7.4.2 feature_importances_\n",
        "\n",
        "from sklearn.datasets import load_iris\n",
        "iris = load_iris()\n",
        "\n",
        "rnd_clf = RandomForestClassifier(n_estimators=500, n_jobs=-1)\n",
        "rnd_clf.fit(iris['data'], iris['target']) # 모든 특성을 사용해 모델 학습\n",
        "\n",
        "for name, score in zip(iris['feature_names'], rnd_clf.feature_importances_):\n",
        "  print(name, score)"
      ],
      "metadata": {
        "colab": {
          "base_uri": "https://localhost:8080/"
        },
        "id": "-oS4XPeCESfr",
        "outputId": "18947b19-195e-4bd4-c181-ec2e1ecd028a"
      },
      "execution_count": null,
      "outputs": [
        {
          "output_type": "stream",
          "name": "stdout",
          "text": [
            "sepal length (cm) 0.09429877218413968\n",
            "sepal width (cm) 0.024157953600974898\n",
            "petal length (cm) 0.45493831914961735\n",
            "petal width (cm) 0.426604955065268\n"
          ]
        }
      ]
    },
    {
      "cell_type": "code",
      "source": [
        "# MNIST에의 적용"
      ],
      "metadata": {
        "id": "WA67u52ZICom"
      },
      "execution_count": null,
      "outputs": []
    }
  ]
}