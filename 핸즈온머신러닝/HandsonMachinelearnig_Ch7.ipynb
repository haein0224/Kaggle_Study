{
  "nbformat": 4,
  "nbformat_minor": 0,
  "metadata": {
    "colab": {
      "name": "HandsonMachinelearnig_Ch7.ipynb",
      "provenance": [],
      "collapsed_sections": [],
      "authorship_tag": "ABX9TyNKW6fPygjVhU9GhyPi32KM",
      "include_colab_link": true
    },
    "kernelspec": {
      "name": "python3",
      "display_name": "Python 3"
    },
    "language_info": {
      "name": "python"
    }
  },
  "cells": [
    {
      "cell_type": "markdown",
      "metadata": {
        "id": "view-in-github",
        "colab_type": "text"
      },
      "source": [
        "<a href=\"https://colab.research.google.com/github/haein0224/Study_machinelearning/blob/main/%ED%95%B8%EC%A6%88%EC%98%A8%EB%A8%B8%EC%8B%A0%EB%9F%AC%EB%8B%9D/HandsonMachinelearnig_Ch7.ipynb\" target=\"_parent\"><img src=\"https://colab.research.google.com/assets/colab-badge.svg\" alt=\"Open In Colab\"/></a>"
      ]
    },
    {
      "cell_type": "code",
      "execution_count": 16,
      "metadata": {
        "colab": {
          "base_uri": "https://localhost:8080/"
        },
        "id": "3N5hbma3F7rC",
        "outputId": "242abb5f-160e-49fe-f2b9-77106170a01b"
      },
      "outputs": [
        {
          "output_type": "execute_result",
          "data": {
            "text/plain": [
              "VotingClassifier(estimators=[('lr', LogisticRegression(solver='liblinear')),\n",
              "                             ('rf', RandomForestClassifier(n_estimators=10)),\n",
              "                             ('svc', SVC(gamma='auto'))])"
            ]
          },
          "metadata": {},
          "execution_count": 16
        }
      ],
      "source": [
        "# 7.1\n",
        "# 투표기반 분류기 (moons dataset)\n",
        "\n",
        "# 데이터 생성 (moon data)\n",
        "from sklearn.datasets import make_moons\n",
        "from sklearn.pipeline import Pipeline\n",
        "from sklearn.preprocessing import PolynomialFeatures\n",
        "from sklearn.model_selection import train_test_split\n",
        "\n",
        "X,y = make_moons(n_samples = 1000, noise = 0.15, random_state=42)\n",
        "\n",
        "X_train, X_test, y_train, y_test = train_test_split(X, y, test_size=0.2, shuffle=False, random_state=1004)\n",
        "\n",
        "# 사용할 다른 종류의 분류기 import\n",
        "from sklearn.ensemble import RandomForestClassifier\n",
        "from sklearn.ensemble import VotingClassifier\n",
        "from sklearn.linear_model import LogisticRegression\n",
        "from sklearn.svm import SVC\n",
        "\n",
        "# 각 분류기 세팅\n",
        "log_clf = LogisticRegression(solver='liblinear')\n",
        "rnd_clf = RandomForestClassifier(n_estimators=10)\n",
        "svm_clf = SVC(gamma='auto')\n",
        "svm_clf2 = SVC(gamma='auto', probability=True)\n",
        "\n",
        "\n",
        "# voting classifier에 넣어줌\n",
        "voting_clf = VotingClassifier(\n",
        "    estimators = [('lr', log_clf), ('rf', rnd_clf), ('svc', svm_clf)],\n",
        "    voting = 'hard')\n",
        "voting_clf.fit(X_train, y_train)"
      ]
    },
    {
      "cell_type": "code",
      "source": [
        "# soft 간접투표를 이용하는 경우\n",
        "voting_clf2 = VotingClassifier(\n",
        "    estimators = [('lr', log_clf), ('rf', rnd_clf), ('svc', svm_clf2)],\n",
        "    voting = 'soft')\n",
        "voting_clf.fit(X_train, y_train)"
      ],
      "metadata": {
        "colab": {
          "base_uri": "https://localhost:8080/"
        },
        "id": "N5etnPyNMK-L",
        "outputId": "d47a38a9-8526-4ead-cd60-30996047784b"
      },
      "execution_count": 19,
      "outputs": [
        {
          "output_type": "execute_result",
          "data": {
            "text/plain": [
              "VotingClassifier(estimators=[('lr', LogisticRegression(solver='liblinear')),\n",
              "                             ('rf', RandomForestClassifier(n_estimators=10)),\n",
              "                             ('svc', SVC(gamma='auto'))])"
            ]
          },
          "metadata": {},
          "execution_count": 19
        }
      ]
    },
    {
      "cell_type": "code",
      "source": [
        "# 각 분류기의 정확도 확인\n",
        "from sklearn.metrics import accuracy_score\n",
        "for clf in (log_clf, rnd_clf, svm_clf, voting_clf, voting_clf2) :\n",
        "  clf.fit(X_train, y_train)\n",
        "  y_pred = clf.predict(X_test)\n",
        "  print(clf.__class__.__name__, accuracy_score(y_test, y_pred))\n",
        "\n",
        "  # Voting classifier의 정확도가 더 높음!"
      ],
      "metadata": {
        "colab": {
          "base_uri": "https://localhost:8080/"
        },
        "id": "3Ac2nkWKL0nT",
        "outputId": "92f6dae2-85ad-4fac-b9ab-380dd92e0e96"
      },
      "execution_count": 20,
      "outputs": [
        {
          "output_type": "stream",
          "name": "stdout",
          "text": [
            "LogisticRegression 0.865\n",
            "RandomForestClassifier 0.985\n",
            "SVC 0.97\n",
            "VotingClassifier 0.97\n",
            "VotingClassifier 0.97\n"
          ]
        }
      ]
    },
    {
      "cell_type": "code",
      "source": [
        "# 7.2 배깅과 페이스팅\n",
        "from sklearn.ensemble import BaggingClassifier\n",
        "from sklearn.tree import DecisionTreeClassifier # 결정트리 한가지 알고리즘을 이용해 앙상블\n",
        "\n",
        "bag_clf = BaggingClassifier(\n",
        "    DecisionTreeClassifier(), n_estimators = 500, # 총 500개의 예측기를 생성해 앙상블 진행\n",
        "    max_samples = 100, bootstrap=True, n_jobs = -1 ) # n_jobs : 사이킷런이 훈련과 예측에 사용할 CPU 코어 수를 지정함 (-1로 지정하는 경우 가용한 모든 코어를 사용)\n",
        "\n",
        "bag_clf.fit(X_train, y_train)\n",
        "y_pred = bag_clf.predict(X_test)\n",
        "\n",
        "accuracy_score(y_test, y_pred)\n",
        "# 굉장히 높은 정확도 보임"
      ],
      "metadata": {
        "colab": {
          "base_uri": "https://localhost:8080/"
        },
        "id": "WwMuuUvMOdp0",
        "outputId": "5ec54a03-bcd2-4e9f-a74b-8a1be993d85d"
      },
      "execution_count": 23,
      "outputs": [
        {
          "output_type": "execute_result",
          "data": {
            "text/plain": [
              "0.965"
            ]
          },
          "metadata": {},
          "execution_count": 23
        }
      ]
    },
    {
      "cell_type": "code",
      "source": [
        ""
      ],
      "metadata": {
        "id": "CKw4cEZ-U-W4"
      },
      "execution_count": null,
      "outputs": []
    }
  ]
}